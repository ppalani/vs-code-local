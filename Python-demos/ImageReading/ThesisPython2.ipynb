{
 "cells": [
  {
   "cell_type": "code",
   "execution_count": 7,
   "id": "cbda258c",
   "metadata": {},
   "outputs": [],
   "source": [
    "#Packages\n",
    "from osgeo import gdal, ogr, gdal_array\n",
    "import numpy as np\n",
    "import numpy as geek\n",
    "import random\n",
    "import pandas as pd\n",
    "import matplotlib.pyplot as plt\n",
    "import seaborn as sns\n",
    "import skimage.io as io\n",
    "from pathlib import Path\n",
    "from glob import glob\n",
    "from PIL import Image, ImageStat\n",
    "\n",
    "from sklearn.model_selection import train_test_split\n",
    "from sklearn.ensemble import RandomForestClassifier\n",
    "from sklearn.preprocessing import MinMaxScaler\n",
    "from sklearn.impute import SimpleImputer\n",
    "from sklearn.metrics import classification_report, accuracy_score, confusion_matrix, recall_score, precision_score, f1_score, cohen_kappa_score\n",
    "from time import process_time\n",
    "\n",
    "\n",
    "#Tell GDAL to throw Python exceptions, and register all drivers\n",
    "gdal.UseExceptions()\n",
    "gdal.AllRegister()\n"
   ]
  },
  {
   "cell_type": "code",
   "execution_count": 8,
   "id": "407d2d9b",
   "metadata": {},
   "outputs": [
    {
     "name": "stdout",
     "output_type": "stream",
     "text": [
      "5833 4680\n",
      "16\n"
     ]
    }
   ],
   "source": [
    "#Open image\n",
    "ras_img = r\"C:\\Users\\Praveen Palani\\VS CODE REPOS\\vs-code-local\\Python-demos\\ImageReading\\Ahmedabad_cityRFComposite.tif\"\n",
    "im = gdal.Open(ras_img, gdal.GA_ReadOnly)\n",
    "\n",
    "#Print rows, columns and bands in image\n",
    "row = im.RasterYSize\n",
    "col = im.RasterXSize\n",
    "n_bands = im.RasterCount\n",
    "geo_transform = im.GetGeoTransform ()\n",
    "projection = im.GetProjectionRef ()\n",
    "print (row, col)\n",
    "print (n_bands)"
   ]
  },
  {
   "cell_type": "code",
   "execution_count": 9,
   "id": "7254798b",
   "metadata": {},
   "outputs": [
    {
     "name": "stdout",
     "output_type": "stream",
     "text": [
      "Shape of stacked array: (5833, 4680, 16)\n"
     ]
    }
   ],
   "source": [
    "#Convert image to numpy array - Read all band information and store as array\n",
    "im_array = []\n",
    "for i in range (1, n_bands+1):\n",
    "    band = im.GetRasterBand(i)\n",
    "    im_array.append(band.ReadAsArray ())\n",
    "    \n",
    "#Stack the array\n",
    "array_new = np.stack (im_array, axis = 2)\n",
    "array_new = np.reshape (im_array, [row, col, n_bands]) \n",
    "print (\"Shape of stacked array: {sz}\".format(sz=array_new.shape))"
   ]
  },
  {
   "cell_type": "code",
   "execution_count": 10,
   "id": "3b14322c",
   "metadata": {},
   "outputs": [
    {
     "name": "stdout",
     "output_type": "stream",
     "text": [
      "         XCoord        YCoord  OBJECTID  CLASS  BAND_1  BAND_2  BAND_3  \\\n",
      "0  8.090094e+06  2.634496e+06         1      1     150     119     141   \n",
      "1  8.083600e+06  2.637024e+06         2      1     150     120     144   \n",
      "2  8.090177e+06  2.634502e+06         3      1     150     124     147   \n",
      "3  8.090121e+06  2.634535e+06         4      1     147     121     147   \n",
      "4  8.077528e+06  2.627929e+06         5      1     148     116     138   \n",
      "\n",
      "   BAND_4  BAND_5  BAND_6  BAND_7  BAND_8  BAND_9  BAND_10  BAND_11  BAND_12  \\\n",
      "0      46     100      79      94      31       5        5        5        3   \n",
      "1      49     100      80      96      33       4        4        4        2   \n",
      "2      44     100      83      98      29      10        7        6        3   \n",
      "3      49      98      81      98      32      11        6        5        4   \n",
      "4      45      99      77      92      30       5        5        4        3   \n",
      "\n",
      "   BAND_13  BAND_14  BAND_15  BAND_16  \n",
      "0      750      740      600      463  \n",
      "1      600      528      600      245  \n",
      "2     1500      905      900      490  \n",
      "3     1617      785      721      497  \n",
      "4      740      591      450      349  \n",
      "Size of X matrix is: (450, 16)\n",
      "Size of y array is: (450,)\n"
     ]
    }
   ],
   "source": [
    "#csv data\n",
    "#Transform csv file to dataframe\n",
    "df = pd.read_csv (r\"C:\\Users\\Praveen Palani\\VS CODE REPOS\\vs-code-local\\Python-demos\\ImageReading\\Ahmedabad.txt\", sep = ',')\n",
    "print (df.head())\n",
    "# Train test split\n",
    "X = df.drop (['XCoord', 'YCoord', 'OBJECTID', 'CLASS'], axis=1).values\n",
    "y = df['CLASS']  \n",
    "\n",
    "# Split dataset into train set and test \n",
    "X_train, X_test, y_train, y_test = train_test_split(X, y, test_size=0.3) \n",
    "print('Size of X matrix is: {sz}'.format(sz=X.shape))\n",
    "print('Size of y array is: {sz}'.format(sz=y.shape))"
   ]
  },
  {
   "cell_type": "code",
   "execution_count": 11,
   "id": "67fa44b2",
   "metadata": {},
   "outputs": [
    {
     "name": "stdout",
     "output_type": "stream",
     "text": [
      "[2 1 1 1 2 2 2 3 2 2 2 2 2 1 3 2 3 1 3 3 1 3 2 2 3 1 1 3 1 1 2 2 3 2 3 2 1\n",
      " 3 3 3 3 2 1 3 3 1 1 2 1 1 3 1 3 2 2 3 1 2 1 3 1 3 2 3 3 3 2 3 2 2 3 1 3 2\n",
      " 3 2 1 1 2 1 2 2 1 1 1 1 1 2 3 2 1 3 3 1 2 2 2 1 3 1 2 1 2 3 2 2 1 1 1 3 1\n",
      " 2 1 3 2 3 3 3 2 3 3 2 1 3 1 2 3 1 2 1 3 1 1 2 3]\n"
     ]
    }
   ],
   "source": [
    "#Random Forest classifier\n",
    "rf = RandomForestClassifier (n_estimators=500, n_jobs=-1,oob_score=True)\n",
    "rf = rf.fit (X_train, y_train)\n",
    "#Predictions on test data\n",
    "y_pred = rf.predict(X_test)\n",
    "print (y_pred)"
   ]
  },
  {
   "cell_type": "code",
   "execution_count": 12,
   "id": "04890508",
   "metadata": {},
   "outputs": [
    {
     "name": "stdout",
     "output_type": "stream",
     "text": [
      "Confusion matrix of the test data:\n",
      " [[41  1  0]\n",
      " [ 0 44  0]\n",
      " [ 4  1 44]]\n",
      "Accuracy report of the test data:\n",
      "               precision    recall  f1-score   support\n",
      "\n",
      "           1       0.91      0.98      0.94        42\n",
      "           2       0.96      1.00      0.98        44\n",
      "           3       1.00      0.90      0.95        49\n",
      "\n",
      "    accuracy                           0.96       135\n",
      "   macro avg       0.96      0.96      0.96       135\n",
      "weighted avg       0.96      0.96      0.96       135\n",
      "\n",
      "The OOB score is 95.87301587301587%\n"
     ]
    }
   ],
   "source": [
    "#Accuracy report \n",
    "print (\"Confusion matrix of the test data:\\n\", confusion_matrix (y_test, y_pred))\n",
    "print(\"Accuracy report of the test data:\\n\", classification_report(y_test, y_pred))\n",
    "print (\"The OOB score is {oob}%\".format(oob=rf.oob_score_ * 100))"
   ]
  },
  {
   "cell_type": "code",
   "execution_count": 13,
   "id": "5b3650c9",
   "metadata": {},
   "outputs": [
    {
     "name": "stdout",
     "output_type": "stream",
     "text": [
      "Band 1 Significance is 0.02237925892848301\n",
      "Band 2 Significance is 0.06888457601084383\n",
      "Band 3 Significance is 0.046362340199260214\n",
      "Band 4 Significance is 0.1193027725731864\n",
      "Band 5 Significance is 0.0249162194604318\n",
      "Band 6 Significance is 0.06445305384011699\n",
      "Band 7 Significance is 0.05221025570992468\n",
      "Band 8 Significance is 0.08439361069793033\n",
      "Band 9 Significance is 0.026064755917809684\n",
      "Band 10 Significance is 0.022072690492385798\n",
      "Band 11 Significance is 0.034481029855438654\n",
      "Band 12 Significance is 0.0970045910404988\n",
      "Band 13 Significance is 0.03396894270588115\n",
      "Band 14 Significance is 0.075960057090901\n",
      "Band 15 Significance is 0.0741706930243757\n",
      "Band 16 Significance is 0.15337515245253197\n"
     ]
    }
   ],
   "source": [
    "#Band importance\n",
    "band_name = range(1,n_bands+1)\n",
    "for i, imp in zip(band_name, rf.feature_importances_):\n",
    "    print('Band {i} Significance is {imp}'.format(i=i, imp=imp))\n",
    "    \n",
    "#Save band importance in an array"
   ]
  },
  {
   "cell_type": "code",
   "execution_count": 14,
   "id": "9289ade7",
   "metadata": {},
   "outputs": [
    {
     "name": "stdout",
     "output_type": "stream",
     "text": [
      "Array is now reshaped from (5833, 4680, 16) to (27298440, 16)\n",
      "Dimension of classified map is (5833, 4680)\n"
     ]
    }
   ],
   "source": [
    "#Classifying the image\n",
    "#Reshape the image array from 3d to 2d\n",
    "array_new_shp = (array_new.shape[0] * array_new.shape[1], array_new.shape[2])\n",
    "array_new_rshp = array_new [:, :, :].reshape(array_new_shp)\n",
    "print(\"Array is now reshaped from {o} to {n}\".format(o = array_new.shape, n = array_new_rshp.shape))\n",
    "\n",
    "#Making predictions for all pixels\n",
    "im_pred = rf.predict (array_new_rshp)\n",
    "\n",
    "#Reshape the classified map to original raster extent\n",
    "im_pred = im_pred.reshape(array_new [:, :, 0].shape)\n",
    "print (\"Dimension of classified map is {o}\". format(o = im_pred.shape))"
   ]
  },
  {
   "cell_type": "code",
   "execution_count": 15,
   "id": "682e43e2",
   "metadata": {},
   "outputs": [],
   "source": [
    "ou_im = r\"C:\\Users\\Praveen Palani\\VS CODE REPOS\\vs-code-local\\Python-demos\\ImageReading\\test4.tif\"\n",
    "def createGeotiff (ou_im, X, geo_transform, projection):\n",
    "    driver = gdal.GetDriverByName('GTiff')\n",
    "    row, col = X.shape\n",
    "    rasterDS = driver.Create (ou_im, col, row, 1, gdal.GDT_Byte)\n",
    "    rasterDS.SetGeoTransform (geo_transform)\n",
    "    rasterDS.SetProjection (projection)\n",
    "    band = rasterDS.GetRasterBand (1)\n",
    "    band.WriteArray (X)\n",
    "    rasterDS = None\n",
    "    #FlushCache ()\n",
    "    \n",
    "#Call the function\n",
    "createGeotiff (ou_im, im_pred, geo_transform, projection)"
   ]
  },
  {
   "cell_type": "code",
   "execution_count": 16,
   "id": "1b26b58c",
   "metadata": {},
   "outputs": [
    {
     "data": {
      "image/png": "[encoded data removed]",
      "text/plain": [
       "<Figure size 432x288 with 1 Axes>"
      ]
     },
     "metadata": {
      "needs_background": "light"
     },
     "output_type": "display_data"
    }
   ],
   "source": [
    "#Visualise the classified image\n",
    "# Visualize\n",
    "\n",
    "# First setup a 5-4-3 composite\n",
    "def color_stretch(image, index, minmax=(0, 10000)):\n",
    "    colors = image[:, :, index].astype(np.float64)\n",
    "\n",
    "    max_val = minmax[1]\n",
    "    min_val = minmax[0]\n",
    "\n",
    "    # Enforce maximum and minimum values\n",
    "    colors[colors[:, :, :] > max_val] = max_val\n",
    "    colors[colors[:, :, :] < min_val] = min_val\n",
    "\n",
    "    for b in range(colors.shape[2]):\n",
    "        colors[:, :, b] = colors[:, :, b] * 1 / (max_val - min_val)\n",
    "        \n",
    "    return colors\n",
    "    \n",
    "img543 = color_stretch(array_new, [4, 3, 2], (0, 8000))\n",
    "\n",
    "n = im_pred.max()\n",
    "\n",
    "# Next setup a colormap for our map\n",
    "colors = dict((\n",
    "    (0, (0, 0, 0, 255)),  # Nodata\n",
    "    (1, (0, 150, 0, 255)),  # Industrial\n",
    "    (2, (0, 0, 255, 255)),  # Residential\n",
    "    (3, (0, 255, 0, 255)),  # Small Non Residential\n",
    "))\n",
    "# Put 0 - 255 as float 0 - 1\n",
    "for k in colors:\n",
    "    v = colors[k]\n",
    "    _v = [_v / 255.0 for _v in v]\n",
    "    colors[k] = _v\n",
    "    \n",
    "index_colors = [colors[key] if key in colors else \n",
    "                (255, 255, 255, 0) for key in range(1, n + 1)]\n",
    "cmap = plt.matplotlib.colors.ListedColormap(index_colors, 'Classification', n)\n",
    "\n",
    "#Now show the class map next to the image\n",
    "plt.subplot(122)\n",
    "plt.imshow(im_pred, cmap=cmap, interpolation='none')\n",
    "\n",
    "plt.show()"
   ]
  },
  {
   "cell_type": "code",
   "execution_count": 17,
   "id": "e450e7e4",
   "metadata": {},
   "outputs": [],
   "source": [
    "from keras.preprocessing.image import ImageDataGenerator, array_to_img, img_to_array, load_img\n",
    "# import io\n",
    "from PIL import Image\n",
    "from osgeo import gdal\n",
    "import cv2\n",
    "import rasterio\n",
    "import numpy as np\n",
    "from osgeo import gdal"
   ]
  },
  {
   "cell_type": "code",
   "execution_count": 18,
   "id": "feb26097",
   "metadata": {},
   "outputs": [],
   "source": [
    "dataset = gdal.Open(r\"C:\\Users\\Praveen Palani\\VS CODE REPOS\\vs-code-local\\Python-demos\\ImageReading\\Ahmedabad_cityRFComposite.tif\", gdal.GA_ReadOnly) "
   ]
  },
  {
   "cell_type": "code",
   "execution_count": 19,
   "id": "2b5f3fe2",
   "metadata": {},
   "outputs": [],
   "source": [
    "datagen = ImageDataGenerator(\n",
    "        rotation_range=180,\n",
    "        width_shift_range=0,\n",
    "        height_shift_range=0,\n",
    "        shear_range=0,\n",
    "        zoom_range=0.5,\n",
    "        \n",
    "        horizontal_flip=True,\n",
    "        vertical_flip = True,\n",
    "        fill_mode='nearest') "
   ]
  },
  {
   "cell_type": "code",
   "execution_count": 20,
   "id": "79d76bc2",
   "metadata": {},
   "outputs": [],
   "source": [
    "a = 1\n",
    "ds = gdal.Open(r\"C:\\Users\\Praveen Palani\\VS CODE REPOS\\vs-code-local\\Python-demos\\ImageReading\\Ahmedabad_cityRFComposite.tif\")\n",
    "\n",
    "while True:\n",
    "    band = ds.GetRasterBand(a)\n",
    "    myarray = band.ReadAsArray()\n",
    "    x = img_to_array(myarray)\n",
    "    x = x.reshape(x.shape + (1, ))  \n",
    "    i = 1\n",
    "    for batch in datagen.flow(x, batch_size=16,  \n",
    "        save_to_dir='C:\\\\Users\\\\Praveen Palani\\\\VS CODE REPOS\\\\vs-code-local\\\\Python-demos\\\\ImageReading', \n",
    "        save_prefix= a, \n",
    "        save_format='tif'):\n",
    "        i += 1\n",
    "        if i > 1:\n",
    "            break \n",
    "    a += 1\n",
    "    if a > 16: #ensures you get all 12 bands\n",
    "        break\n",
    "del ds"
   ]
  },
  {
   "cell_type": "code",
   "execution_count": 21,
   "id": "9e17d948",
   "metadata": {},
   "outputs": [
    {
     "name": "stdout",
     "output_type": "stream",
     "text": [
      "Array is now reshaped from (5833, 4680) to (5833, 4680)\n"
     ]
    }
   ],
   "source": [
    "print(\"Array is now reshaped from {o} to {n}\".format(o = myarray.shape, n = myarray.shape))\n"
   ]
  }
 ],
 "metadata": {
  "kernelspec": {
   "display_name": "pygdal",
   "language": "python",
   "name": "pygdal"
  },
  "language_info": {
   "codemirror_mode": {
    "name": "ipython",
    "version": 3
   },
   "file_extension": ".py",
   "mimetype": "text/x-python",
   "name": "python",
   "nbconvert_exporter": "python",
   "pygments_lexer": "ipython3",
   "version": "3.10.2"
  }
 },
 "nbformat": 4,
 "nbformat_minor": 5
}
